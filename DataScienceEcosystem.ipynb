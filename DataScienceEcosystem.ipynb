{
 "cells": [
  {
   "cell_type": "markdown",
   "id": "0ed4e271",
   "metadata": {},
   "source": [
    "# Data Science Tools and Ecosystem"
   ]
  },
  {
   "cell_type": "markdown",
   "id": "d745e1cd",
   "metadata": {},
   "source": [
    "In this notebook, Data Science Tools and Ecosystem are summarized."
   ]
  },
  {
   "cell_type": "markdown",
   "id": "e2349eec",
   "metadata": {},
   "source": [
    "__Objectives:__\n",
    "\n",
    "- List popular languages for Data Science\n",
    "- List popular libraries for Data Science\n",
    "- List some of the open source Data Science Tools\n",
    "- Examples of Arithmetic expressions in Python\n"
   ]
  },
  {
   "cell_type": "markdown",
   "id": "84ec11b5",
   "metadata": {},
   "source": [
    "Some of the popular languages that Data Scientists use are:\n",
    "1. Python\n",
    "1. R\n",
    "1. Julia\n",
    "1. SQL"
   ]
  },
  {
   "cell_type": "markdown",
   "id": "43ee8e2d",
   "metadata": {},
   "source": [
    "Some of the popular libraries that Data Scientists use are:\n",
    "1. Tensorflow\n",
    "1. Numpy\n",
    "1. Scipy\n",
    "1. Seaborn\n",
    "1. Keras"
   ]
  },
  {
   "cell_type": "markdown",
   "id": "8e6f4f0b",
   "metadata": {},
   "source": [
    "|Data Science Tools|\n",
    "|------------------|\n",
    "|RStudio|\n",
    "|Jupyter|\n",
    "|Apache Spark|\n"
   ]
  },
  {
   "cell_type": "markdown",
   "id": "251ed53e",
   "metadata": {},
   "source": [
    "### Below are a few examples of evaluating arithmetic expressions in Python"
   ]
  },
  {
   "cell_type": "code",
   "execution_count": null,
   "id": "329aafac",
   "metadata": {},
   "outputs": [],
   "source": [
    "4+5"
   ]
  },
  {
   "cell_type": "code",
   "execution_count": null,
   "id": "54b6f824",
   "metadata": {},
   "outputs": [],
   "source": [
    "10-9"
   ]
  },
  {
   "cell_type": "code",
   "execution_count": null,
   "id": "65bacff7",
   "metadata": {},
   "outputs": [],
   "source": [
    "7*5"
   ]
  },
  {
   "cell_type": "code",
   "execution_count": null,
   "id": "123f6fa4",
   "metadata": {},
   "outputs": [],
   "source": [
    "#This a simple arithmetic expression to mutiply then add integers.\n",
    "(3*4)+5"
   ]
  },
  {
   "cell_type": "code",
   "execution_count": 1,
   "id": "1849cac1",
   "metadata": {},
   "outputs": [
    {
     "name": "stdout",
     "output_type": "stream",
     "text": [
      "3.3333333333333335 hours\n"
     ]
    }
   ],
   "source": [
    "#This will convert 200 minutes to hours by diving by 60.\n",
    "x = 200/60\n",
    "print(x, \"hours\")"
   ]
  },
  {
   "cell_type": "markdown",
   "id": "882bcef9",
   "metadata": {},
   "source": [
    "## Author\n",
    "Gokulakrishnan K"
   ]
  }
 ],
 "metadata": {
  "kernelspec": {
   "display_name": "Python 3 (ipykernel)",
   "language": "python",
   "name": "python3"
  },
  "language_info": {
   "codemirror_mode": {
    "name": "ipython",
    "version": 3
   },
   "file_extension": ".py",
   "mimetype": "text/x-python",
   "name": "python",
   "nbconvert_exporter": "python",
   "pygments_lexer": "ipython3",
   "version": "3.9.12"
  }
 },
 "nbformat": 4,
 "nbformat_minor": 5
}
